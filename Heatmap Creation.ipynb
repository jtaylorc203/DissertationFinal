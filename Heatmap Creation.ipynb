{
 "cells": [
  {
   "cell_type": "code",
   "execution_count": null,
   "id": "64aa3eab-5d26-4139-b59d-f9cad7ea27e5",
   "metadata": {},
   "outputs": [],
   "source": [
    "#This file is to complete the text analysis \n",
    "\n",
    "#Importing the required packages\n",
    "import os\n",
    "from sklearn.feature_extraction.text import TfidfVectorizer\n",
    "from sklearn.feature_extraction.text import CountVectorizer\n",
    "import pandas as pd\n",
    "from pathlib import Path  \n",
    "import glob"
   ]
  },
  {
   "cell_type": "code",
   "execution_count": 8,
   "id": "a7795c8b-59e4-48a0-a125-cefce5739fa5",
   "metadata": {},
   "outputs": [],
   "source": [
    "directory_path = \"../Files/US/Heatmaps/Senate Legislation/\"\n",
    "text_files = glob.glob(f\"{directory_path}/*.txt\")\n",
    "text_files"
   ]
  },
  {
   "cell_type": "code",
   "execution_count": null,
   "id": "8ed123f9-8815-4678-9f64-fde595702152",
   "metadata": {},
   "outputs": [],
   "source": [
    "text_titles = [Path(text).stem for text in text_files]\n",
    "text_titles"
   ]
  },
  {
   "cell_type": "code",
   "execution_count": null,
   "id": "612d4fff-ddd9-4b65-816a-4f4a8590dcc5",
   "metadata": {},
   "outputs": [],
   "source": [
    "myvocabulary = ['domestic terror', 'terrorism', 'domestic terrorism', 'white supremacy', 'violent extremism', 'extremism' ]\n",
    "tfidf_vectorizer = TfidfVectorizer(input='filename', stop_words='english')\n",
    "tfidf_vector = tfidf_vectorizer.fit_transform(text_files)\n",
    "tfidf_df = pd.DataFrame(tfidf_vector.toarray(), index=text_titles, columns=tfidf_vectorizer.get_feature_names())\n",
    "tfidf_df.loc['00_Document Frequency'] = (tfidf_df > 0).sum()\n",
    "tfidf_slice = tfidf_df[['domestic', 'terrorism', 'extremism', 'supremacy']]\n",
    "tfidf_slice.sort_index().round(decimals=2)"
   ]
  },
  {
   "cell_type": "code",
   "execution_count": null,
   "id": "72e2b05c-f7bc-4feb-83a8-fecace60981b",
   "metadata": {},
   "outputs": [],
   "source": [
    "tfidf_df = tfidf_df.drop('00_Document Frequency', errors='ignore')\n",
    "tfidf_df.stack().reset_index()"
   ]
  },
  {
   "cell_type": "code",
   "execution_count": null,
   "id": "4e89fa87-0827-4170-9525-3ce71293e248",
   "metadata": {},
   "outputs": [],
   "source": [
    "tfidf_df = tfidf_df.stack().reset_index()\n",
    "tfidf_df = tfidf_df.rename(columns={0:'tfidf', 'level_0': 'document','level_1': 'term', 'level_2': 'term'})\n",
    "tfidf_df.sort_values(by=['document','tfidf'], ascending=[True,False]).groupby(['document']).head(10)"
   ]
  },
  {
   "cell_type": "code",
   "execution_count": null,
   "id": "8a9f4047-3316-476d-9979-e7c518542130",
   "metadata": {},
   "outputs": [],
   "source": [
    "top_tfidf = tfidf_df.sort_values(by=['document','tfidf'], ascending=[True,False]).groupby(['document']).head(10)\n",
    "top_tfidf[top_tfidf['term'].str.contains('domestic')]"
   ]
  },
  {
   "cell_type": "code",
   "execution_count": null,
   "id": "d63eef52-77fd-4c2b-bc75-1e9315bccbcf",
   "metadata": {},
   "outputs": [],
   "source": [
    "!pip install altair"
   ]
  },
  {
   "cell_type": "code",
   "execution_count": null,
   "id": "404588e9-2be7-435a-8d60-a1f1023a437f",
   "metadata": {},
   "outputs": [],
   "source": [
    "import altair as alt\n",
    "import numpy as np\n",
    "\n",
    "# Terms in this list will get a red dot in the visualization\n",
    "term_list = ['terrorism', 'extremism']\n",
    "\n",
    "# adding a little randomness to break ties in term ranking\n",
    "top_tfidf_plusRand = top_tfidf.copy()\n",
    "top_tfidf_plusRand['tfidf'] = top_tfidf_plusRand['tfidf'] + np.random.rand(top_tfidf.shape[0])*0.0001\n",
    "\n",
    "# base for all visualizations, with rank calculation\n",
    "base = alt.Chart(top_tfidf_plusRand).encode(\n",
    "    x = 'rank:O',\n",
    "    y = 'document:N'\n",
    ").transform_window(\n",
    "    rank = \"rank()\",\n",
    "    sort = [alt.SortField(\"tfidf\", order=\"descending\")],\n",
    "    groupby = [\"document\"],\n",
    ")\n",
    "\n",
    "# heatmap specification\n",
    "heatmap = base.mark_rect().encode(\n",
    "    color = 'tfidf:Q'\n",
    ")\n",
    "\n",
    "# red circle over terms in above list\n",
    "circle = base.mark_circle(size=100).encode(\n",
    "    color = alt.condition(\n",
    "        alt.FieldOneOfPredicate(field='term', oneOf=term_list),\n",
    "        alt.value('red'),\n",
    "        alt.value('#FFFFFF00')        \n",
    "    )\n",
    ")\n",
    "\n",
    "# text labels, white for darker heatmap colors\n",
    "text = base.mark_text(baseline='middle').encode(\n",
    "    text = 'term:N',\n",
    "    color = alt.condition(alt.datum.tfidf >= 0.23, alt.value('white'), alt.value('black'))\n",
    ")\n",
    "\n",
    "# display the three superimposed visualizations\n",
    "(heatmap + circle + text).properties(width = 600)"
   ]
  }
 ],
 "metadata": {
  "kernelspec": {
   "display_name": "Python 3 (ipykernel)",
   "language": "python",
   "name": "python3"
  },
  "language_info": {
   "codemirror_mode": {
    "name": "ipython",
    "version": 3
   },
   "file_extension": ".py",
   "mimetype": "text/x-python",
   "name": "python",
   "nbconvert_exporter": "python",
   "pygments_lexer": "ipython3",
   "version": "3.9.12"
  }
 },
 "nbformat": 4,
 "nbformat_minor": 5
}
