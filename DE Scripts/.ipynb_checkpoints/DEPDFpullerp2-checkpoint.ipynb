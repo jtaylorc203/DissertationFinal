{
 "cells": [
  {
   "cell_type": "code",
   "execution_count": null,
   "id": "d780262c-588f-4f53-8015-a61eb93cead8",
   "metadata": {},
   "outputs": [],
   "source": [
    "\"\"\"\n",
    "Pulling pdf files from the Bundestag website and saving them as a pdf file\n",
    "\"\"\"\n",
    "\n",
    "# Importing the required packages\n",
    "import pandas as pd\n",
    "import requests\n",
    "import os\n",
    "from bs4 import BeautifulSoup\n",
    "import sys\n",
    "sys.setrecursionlimit(50000)\n",
    "\n",
    "# listing all folders in the directory \"../Files/German/Text Analysis/Final CSVs/\"\n",
    "folders = os.listdir('../Files/German/Pull No 3 for 2 Word Items/DIP Lists/')\n",
    "\n",
    "try:\n",
    "    folders.pop(folders.index('.DS_Store')) # this is a specific MacOS file that may or may not exist, but don't want it\n",
    "except ValueError:\n",
    "    pass\n",
    "folders"
   ]
  },
  {
   "cell_type": "code",
   "execution_count": null,
   "id": "324b7f58-c78c-47cb-81bd-8c601f8824e8",
   "metadata": {},
   "outputs": [],
   "source": [
    "# Within each folder, there are .csv files that we want\n",
    "files = []\n",
    "for folder in folders: \n",
    "    temp = os.listdir(os.path.join('../Files/German/Pull No 3 for 2 Word Items/DIP Lists/' + folder)) \n",
    "    try:\n",
    "        temp.pop(temp.index('.ipynb_checkpoints'))\n",
    "    except ValueError:\n",
    "        pass\n",
    "    try: \n",
    "         temp.pop(temp.index('.DS_Store')) # our subfolders may also contain the .DS_Store file, so we try to remove as well\n",
    "    except ValueError:\n",
    "        pass\n",
    "    for t in temp:\n",
    "        files.append(os.path.join('../Files/German/Pull No 3 for 2 Word Items/DIP Lists/' + folder + '/' + t)) # we save our file names directly as the entire path\n",
    "files"
   ]
  },
  {
   "cell_type": "code",
   "execution_count": null,
   "id": "efed32be-6a42-4820-9629-5cda1913d542",
   "metadata": {},
   "outputs": [],
   "source": [
    "def get_pdf(url):\n",
    "    \"\"\"_\n",
    "    Get the pdf from the url\n",
    "    \"\"\"\n",
    "    pdf = requests.get(url, stream=True)\n",
    "    return pdf"
   ]
  },
  {
   "cell_type": "code",
   "execution_count": null,
   "id": "b69c0991-c0b4-498e-a2db-30d61afd9bbf",
   "metadata": {},
   "outputs": [],
   "source": [
    "for file in files: # we run through the files\n",
    "    print(file)\n",
    "    df = pd.read_csv(file, header=0, usecols=['Titles', 'URLs']) # read in the files\n",
    "    for i, j in df.iterrows(): # and then pull the text from each URL we have found\n",
    "        url = j.URLs\n",
    "        filename = url.split('/')[-1]\n",
    "        pdf = get_pdf(url)\n",
    "        with open(os.path.join('../Files/German/Pull No 3 for 2 Word Items/DIP Lists/'+ file.split('/')[-2] + '/' + filename), 'wb') as f:\n",
    "            f.write(pdf.content)\n",
    "        f.close()"
   ]
  }
 ],
 "metadata": {
  "kernelspec": {
   "display_name": "Python 3 (ipykernel)",
   "language": "python",
   "name": "python3"
  },
  "language_info": {
   "codemirror_mode": {
    "name": "ipython",
    "version": 3
   },
   "file_extension": ".py",
   "mimetype": "text/x-python",
   "name": "python",
   "nbconvert_exporter": "python",
   "pygments_lexer": "ipython3",
   "version": "3.9.12"
  }
 },
 "nbformat": 4,
 "nbformat_minor": 5
}
