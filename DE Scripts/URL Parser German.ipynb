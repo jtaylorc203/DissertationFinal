{
 "cells": [
  {
   "cell_type": "code",
   "execution_count": null,
   "id": "8f9d7e7e-f083-46ea-bc44-e8b160093fec",
   "metadata": {},
   "outputs": [],
   "source": [
    "pip install csv\n",
    "import pikepdf\n",
    "pdf_file = pikepdf.Pdf.open(\"../Files/German/Pull No 3 for 2 Word Items/DIP Lists/rassistisch motivierter.pdf\")    \n",
    "urls = []\n",
    "for page in pdf_file.pages:\n",
    "    for annots in page.get(\"/Annots\"):\n",
    "        url=annots.get(\"/A\").get(\"/URI\")\n",
    "        if url is not None:\n",
    "            urls.append(url)\n",
    "            urls.append(\" ; \")\n",
    "import csv\n",
    "with open('../Files/German/Pull No 3 for 2 Word Items/DIP Lists/rassistisch motivierter urls.csv', 'w', newline='') as f:\n",
    "    csvwriter = csv.writer(f, delimiter = ',', lineterminator = '\\r')\n",
    "    csvwriter.writerow(['URLs'])\n",
    "    csvwriter.writerow([urls])\n",
    "    for x in urls:\n",
    "        csvwriter.writerow([x])"
   ]
  }
 ],
 "metadata": {
  "kernelspec": {
   "display_name": "Python 3 (ipykernel)",
   "language": "python",
   "name": "python3"
  },
  "language_info": {
   "codemirror_mode": {
    "name": "ipython",
    "version": 3
   },
   "file_extension": ".py",
   "mimetype": "text/x-python",
   "name": "python",
   "nbconvert_exporter": "python",
   "pygments_lexer": "ipython3",
   "version": "3.9.12"
  }
 },
 "nbformat": 4,
 "nbformat_minor": 5
}
