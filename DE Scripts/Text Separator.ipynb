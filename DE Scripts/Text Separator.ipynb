{
 "cells": [
  {
   "cell_type": "code",
   "execution_count": null,
   "id": "f53125ce-a4ba-4f9c-8770-31cf2a55e561",
   "metadata": {},
   "outputs": [],
   "source": [
    "import re\n",
    "\n",
    "with open('../Files/German/Pull No 3 for 2 Word Items/DIP Lists/rassistisch motivierter.txt') as f:\n",
    "   data = f.read()\n",
    "\n",
    "\n",
    "# regex to indicate the values [1] or  [2] or ...\n",
    "pattern = re.compile(\"\\[\\d+\\]\")\n",
    "\n",
    "p2 = re.compile(\"Seite [0-9]+ von [0-9]+\")\n",
    "p3 = re.compile(\"Permalink auf diese Aktivität\")\n",
    "\n",
    "ls = re.split(pattern, data)\n",
    "final = []\n",
    "for item in ls:\n",
    "   item = re.sub(p3, '', item)\n",
    "   item = re.sub(p2, '', item)\n",
    "   final.append(item)\n",
    "\n",
    "final.pop(0)\n",
    "\n",
    "import csv\n",
    "file = open(\"../Files/German/Pull No 3 for 2 Word Items/DIP Lists/rassistisch motivierter.csv\", \"w\")\n",
    "writer = csv.writer(file, delimiter = \"\\n\")\n",
    "for list_ in final:\n",
    "     writer.writerow([list_])\n",
    "file.close()"
   ]
  }
 ],
 "metadata": {
  "kernelspec": {
   "display_name": "Python 3 (ipykernel)",
   "language": "python",
   "name": "python3"
  },
  "language_info": {
   "codemirror_mode": {
    "name": "ipython",
    "version": 3
   },
   "file_extension": ".py",
   "mimetype": "text/x-python",
   "name": "python",
   "nbconvert_exporter": "python",
   "pygments_lexer": "ipython3",
   "version": "3.9.12"
  }
 },
 "nbformat": 4,
 "nbformat_minor": 5
}
